{
 "cells": [
  {
   "cell_type": "markdown",
   "metadata": {},
   "source": [
    "# How to do a quantum in Python\n",
    "\n",
    "$$\n",
    "|\\psi\\rangle = \\frac{1}{\\sqrt{2}}\\left(|0\\rangle+|1\\rangle\\right)\n",
    "$$\n",
    "\n",
    "To make do quantum, you will need:"
   ]
  },
  {
   "cell_type": "code",
   "execution_count": 2,
   "metadata": {
    "ExecuteTime": {
     "end_time": "2019-07-29T12:54:35.938843Z",
     "start_time": "2019-07-29T12:54:34.321002Z"
    }
   },
   "outputs": [],
   "source": [
    "import pennylane as qml\n",
    "from pennylane import numpy as np"
   ]
  },
  {
   "cell_type": "markdown",
   "metadata": {},
   "source": [
    "Basic introductions:\n",
    "https://pennylane.readthedocs.io/en/doc-refactor/tutorials/pennylane_qubit_rotation.html\n",
    "\n",
    "https://pennylane.readthedocs.io/en/doc-refactor/tutorials/pennylane_skip_state_preparation.html\n",
    "\n",
    "Flashy applications:\n",
    "\n",
    "https://pennylane.readthedocs.io/en/doc-refactor/tutorials/pennylane_skip_quantum_neural_net.html\n",
    "\n",
    "https://pennylane.readthedocs.io/en/doc-refactor/tutorials/pennylane_QGAN.html"
   ]
  }
 ],
 "metadata": {
  "kernelspec": {
   "display_name": "Python 3",
   "language": "python",
   "name": "python3"
  },
  "language_info": {
   "codemirror_mode": {
    "name": "ipython",
    "version": 3
   },
   "file_extension": ".py",
   "mimetype": "text/x-python",
   "name": "python",
   "nbconvert_exporter": "python",
   "pygments_lexer": "ipython3",
   "version": "3.6.6"
  },
  "toc": {
   "base_numbering": 1,
   "nav_menu": {},
   "number_sections": true,
   "sideBar": true,
   "skip_h1_title": false,
   "title_cell": "Table of Contents",
   "title_sidebar": "Contents",
   "toc_cell": false,
   "toc_position": {},
   "toc_section_display": true,
   "toc_window_display": false
  }
 },
 "nbformat": 4,
 "nbformat_minor": 2
}
