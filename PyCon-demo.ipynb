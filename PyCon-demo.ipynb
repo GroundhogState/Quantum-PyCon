{
 "cells": [
  {
   "cell_type": "code",
   "execution_count": 1,
   "metadata": {
    "ExecuteTime": {
     "end_time": "2019-08-04T03:44:44.480235Z",
     "start_time": "2019-08-04T03:44:36.544840Z"
    }
   },
   "outputs": [],
   "source": [
    "# First, import the packages we'll need.\n",
    "# From Rigetti:\n",
    "from pyquil import get_qc, Program\n",
    "from pyquil.gates import H, CNOT, PHASE, X, RX, MEASURE, RESET\n",
    "\n",
    "# Other useful things\n",
    "import numpy as np\n",
    "import matplotlib.pyplot as plt\n",
    "import itertools\n",
    "import time\n",
    "from typing import List"
   ]
  },
  {
   "cell_type": "code",
   "execution_count": null,
   "metadata": {},
   "outputs": [],
   "source": [
    "# Declare a device and the qubits to use\n",
    "qpu = get_qc(\"9q-generic-qvm\", as_qvm=True, noisy=False)\n",
    "qubits = qpu.device.qubits()[0:2] # We only need two qubits\n",
    "# qpu = get_qc(\"Aspen-4-2Q-A\")\n",
    "# qubits = qpu.device.qubits()[16:17] # We only need two qubits"
   ]
  },
  {
   "cell_type": "code",
   "execution_count": null,
   "metadata": {},
   "outputs": [],
   "source": [
    "# Define the function to iterate\n",
    "def prepare_bell_singlet(qubits: List[int]) -> Program:\n",
    "    program = Program()\n",
    "    # put the first qubit into |+> state\n",
    "    program.inst(H(qubits[0]))\n",
    "    # Entangle the other qubit\n",
    "    program.inst(CNOT(qubits[0], qubits[1]))\n",
    "    # Flip the first qubit \n",
    "    program.inst(X(qubits[0]))\n",
    "    # Add a phase to the second qubit\n",
    "    program.inst(PHASE(np.pi,qubits[1]))\n",
    "    return program"
   ]
  },
  {
   "cell_type": "code",
   "execution_count": null,
   "metadata": {},
   "outputs": [],
   "source": [
    "program = Program()\n",
    "ro = program.declare('ro', 'BIT', len(qubits))\n",
    "program.inst(prepare_bell_singlet(qubits))\n",
    "program.inst([MEASURE(qubit, ro[idx]) for idx, qubit in enumerate(qubits)])\n",
    "program.wrap_in_numshots_loop(10_000)\n",
    "binary = qpu.compile(program)"
   ]
  },
  {
   "cell_type": "code",
   "execution_count": null,
   "metadata": {},
   "outputs": [],
   "source": [
    "# Set up a timer and run the program on the qvm\n",
    "start = time.time()\n",
    "results = qpu.run(binary)\n",
    "total = time.time() - start\n",
    "print(f'Execution time: {total:.3f} s')\n",
    "\n",
    "# Examine the output\n",
    "counts = {bit_tuple: 0 for bit_tuple in itertools.product((0, 1), repeat=len(qubits))}\n",
    "for shot_result in results:\n",
    "    bit_tuple = tuple(shot_result)\n",
    "    counts[bit_tuple] += 1  \n",
    "print(f'Measurement results:')\n",
    "for bit_tuple, count in counts.items():\n",
    "    print(bit_tuple, count)"
   ]
  },
  {
   "cell_type": "code",
   "execution_count": null,
   "metadata": {},
   "outputs": [],
   "source": [
    "program = Program()\n",
    "theta = program.declare('theta', 'REAL', 1)\n",
    "phi = program.declare('phi', 'REAL', 1)\n",
    "ro = program.declare('ro', 'BIT', 2)\n",
    "\n",
    "program.inst(prepare_bell_singlet(qubits))\n",
    "program.inst(RX(phi, qubits[0]))\n",
    "program.inst(RX(theta, qubits[1]))\n",
    "program.inst([MEASURE(qubit, ro[idx]) for idx, qubit in enumerate(qubits)])\n",
    "program.wrap_in_numshots_loop(5000)\n",
    "\n",
    "binary = qpu.compile(program)"
   ]
  },
  {
   "cell_type": "code",
   "execution_count": null,
   "metadata": {},
   "outputs": [],
   "source": [
    "a  = np.pi\n",
    "a_ = 3*np.pi/2\n",
    "b  = np.pi/4\n",
    "b_ = 3*np.pi/4\n",
    "\n",
    "B_ = np.zeros([4,1])\n",
    "D_ = np.zeros([4,1])\n",
    "\n",
    "bell_results = qpu.run(binary,memory_map={'theta': [a],'phi':[b]})\n",
    "B_[0] = np.mean(np.prod(2*bell_results-1,axis=1))\n",
    "D_[0] = np.std(np.prod(2*bell_results-1,axis=1))\n",
    "bell_results = qpu.run(binary,memory_map={'theta': [a],'phi':[b_]})\n",
    "B_[1] = np.mean(np.prod(2*bell_results-1,axis=1))\n",
    "D_[1] = np.std(np.prod(2*bell_results-1,axis=1))\n",
    "bell_results = qpu.run(binary,memory_map={'theta': [a_],'phi':[b]})\n",
    "B_[2] = np.mean(np.prod(2*bell_results-1,axis=1))\n",
    "D_[2] = np.std(np.prod(2*bell_results-1,axis=1))\n",
    "bell_results = qpu.run(binary,memory_map={'theta': [a_],'phi':[b_]})\n",
    "B_[3] = np.mean(np.prod(2*bell_results-1,axis=1))\n",
    "D_[3] = np.std(np.prod(2*bell_results-1,axis=1))\n",
    "CHSH_value=B_[0]-B_[1]+B_[2]+B_[3]\n",
    "CHSH_uncert = sum(D_)/np.sqrt(4*5000)\n",
    "excess = abs(CHSH_value)-2\n",
    "sigma = excess/CHSH_uncert\n",
    "if excess > 0:\n",
    "    print('You violated the Bell inequality by %.3f with uncertainty sigma=%.3f !'%(excess,sigma))\n",
    "    print('plz nobel prize thx')\n",
    "else:\n",
    "    print('You call that entangled??')"
   ]
  },
  {
   "cell_type": "code",
   "execution_count": null,
   "metadata": {},
   "outputs": [],
   "source": [
    "!pip install pennylane"
   ]
  },
  {
   "cell_type": "code",
   "execution_count": null,
   "metadata": {},
   "outputs": [],
   "source": [
    "import pennylane as qml\n",
    "from pennylane import numpy as np\n",
    "import matplotlib.pyplot as plt\n",
    "Paulis = np.zeros((3, 2, 2), dtype=complex)\n",
    "Paulis[0] = [[0, 1], [1, 0]]\n",
    "Paulis[1] = [[0, -1j], [1j, 0]]\n",
    "Paulis[2] = [[1, 0], [0, -1]]\n",
    "Correlator = np.kron(Paulis[2],Paulis[2])"
   ]
  }
 ],
 "metadata": {
  "kernelspec": {
   "display_name": "Python 3",
   "language": "python",
   "name": "python3"
  },
  "language_info": {
   "codemirror_mode": {
    "name": "ipython",
    "version": 3
   },
   "file_extension": ".py",
   "mimetype": "text/x-python",
   "name": "python",
   "nbconvert_exporter": "python",
   "pygments_lexer": "ipython3",
   "version": "3.6.6"
  },
  "toc": {
   "base_numbering": 1,
   "nav_menu": {},
   "number_sections": true,
   "sideBar": true,
   "skip_h1_title": false,
   "title_cell": "Table of Contents",
   "title_sidebar": "Contents",
   "toc_cell": false,
   "toc_position": {},
   "toc_section_display": true,
   "toc_window_display": false
  }
 },
 "nbformat": 4,
 "nbformat_minor": 2
}
