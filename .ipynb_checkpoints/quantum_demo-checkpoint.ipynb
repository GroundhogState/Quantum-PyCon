{
 "cells": [
  {
   "cell_type": "markdown",
   "metadata": {},
   "source": [
    "# Quantum Programming @ PyConAU"
   ]
  },
  {
   "cell_type": "markdown",
   "metadata": {},
   "source": [
    "## Nobel prize in $3,2,\\left(|11\\rangle+|00\\rangle\\right)/\\sqrt{2}$...\n",
    "\n",
    "An emblematic class of quantum states are the Bell states \\ named after John Bell. Despite their simplicity they capture an esssential feature of quantum mechanics, entanglement, and they are famous for their role in showing that *local realism is not a true description of reality*.\n",
    "Here, I use PyQuil to create the Bell state $|\\phi^-\\rangle = \\frac{1}{\\sqrt{2}}\\left(|01\\rangle - |10\\rangle\\right)$."
   ]
  },
  {
   "cell_type": "code",
   "execution_count": 16,
   "metadata": {
    "ExecuteTime": {
     "end_time": "2019-08-03T03:55:58.493813Z",
     "start_time": "2019-08-03T03:55:57.469011Z"
    }
   },
   "outputs": [
    {
     "name": "stderr",
     "output_type": "stream",
     "text": [
      "c:\\users\\jaker\\appdata\\local\\programs\\python\\python36\\lib\\site-packages\\pyquil\\api\\_compiler.py:300: UserWarning: No quilc server running at tcp://127.0.0.1:5555. Compilation using quilc will not be available.\n",
      "  warnings.warn(f'{e}. Compilation using quilc will not be available.')\n"
     ]
    }
   ],
   "source": [
    "import pennylane as qml\n",
    "from pennylane import numpy as np\n",
    "\n",
    "Paulis = np.zeros((3, 2, 2), dtype=complex)\n",
    "Paulis[0] = [[0, 1], [1, 0]]\n",
    "Paulis[1] = [[0, -1j], [1j, 0]]\n",
    "Paulis[2] = [[1, 0], [0, -1]]\n",
    "Correlator = np.kron(Paulis[0],Paulis[0])\n",
    "def bell_experiment(theta,phi):\n",
    "    qml.Hadamard(wires=0)\n",
    "    qml.CNOT(wires=[0,1])\n",
    "    qml.PauliX(0)\n",
    "    qml.PhaseShift(np.pi,wires=1)\n",
    "    # apply the waveplates\n",
    "    qml.RX(theta,wires=0)\n",
    "    qml.RX(phi,wires=1)\n",
    "    return qml.expval(qml.Hermitian(Correlator,wires=[0,1]))\n",
    "    \n",
    "qpu = qml.device(\"forest.qvm\", device=\"2q-pyqvm\",shots=1000)\n"
   ]
  },
  {
   "cell_type": "code",
   "execution_count": 24,
   "metadata": {
    "ExecuteTime": {
     "end_time": "2019-08-03T04:19:16.737610Z",
     "start_time": "2019-08-03T04:19:16.729621Z"
    }
   },
   "outputs": [],
   "source": [
    "@qml.qnode(qpu)\n",
    "def bell_test(params):\n",
    "    E_1 = bell_experiment(params[0],params[2])\n",
    "#     E_2 = bell_experiment(params[0],params[3])\n",
    "#     E_3 = bell_experiment(params[1],params[2])\n",
    "#     E_4 = bell_experiment(params[1],params[3])\n",
    "    return E_1 "
   ]
  },
  {
   "cell_type": "code",
   "execution_count": 30,
   "metadata": {
    "ExecuteTime": {
     "end_time": "2019-08-03T04:21:23.608570Z",
     "start_time": "2019-08-03T04:21:23.600616Z"
    }
   },
   "outputs": [],
   "source": [
    "def bell_experiment(theta,phi):\n",
    "    qml.Hadamard(wires=0)\n",
    "    qml.CNOT(wires=[0,1])\n",
    "    qml.PauliX(0)\n",
    "    qml.PhaseShift(np.pi,wires=1)\n",
    "    # apply the waveplates\n",
    "    qml.RX(theta,wires=0)\n",
    "    qml.RX(phi,wires=1)\n",
    "    return qml.expval(qml.Hermitian(Correlator,wires=[0,1]))\n",
    "\n",
    "def cost(param):\n",
    "    E_1 = bell_experiment(param[0],param[2])\n",
    "    E_2 = bell_experiment(param[0],param[3])\n",
    "    E_3 = bell_experiment(param[1],param[2])\n",
    "    E_4 = bell_experiment(param[1],param[3])\n",
    "    return E_1 - E_2 + E_3 + E_4"
   ]
  }
 ],
 "metadata": {
  "kernelspec": {
   "display_name": "Python 3",
   "language": "python",
   "name": "python3"
  },
  "language_info": {
   "codemirror_mode": {
    "name": "ipython",
    "version": 3
   },
   "file_extension": ".py",
   "mimetype": "text/x-python",
   "name": "python",
   "nbconvert_exporter": "python",
   "pygments_lexer": "ipython3",
   "version": "3.6.6"
  },
  "toc": {
   "base_numbering": 1,
   "nav_menu": {},
   "number_sections": true,
   "sideBar": true,
   "skip_h1_title": false,
   "title_cell": "Table of Contents",
   "title_sidebar": "Contents",
   "toc_cell": false,
   "toc_position": {},
   "toc_section_display": true,
   "toc_window_display": false
  }
 },
 "nbformat": 4,
 "nbformat_minor": 2
}
